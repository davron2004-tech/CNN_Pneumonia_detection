{
 "cells": [
  {
   "cell_type": "code",
   "execution_count": 1,
   "metadata": {},
   "outputs": [],
   "source": [
    "import torch\n",
    "import torch.nn as nn\n",
    "import torchvision.models as models\n",
    "\n",
    "from torch.utils.data import DataLoader, Subset\n",
    "from torchvision import transforms, datasets\n",
    "\n",
    "import numpy as np\n",
    "import pandas as pd\n",
    "\n",
    "from sklearn.metrics import accuracy_score, confusion_matrix, roc_auc_score, roc_curve\n",
    "import plotly.express as px\n",
    "\n",
    "from tqdm.notebook import tqdm\n",
    "\n",
    "from sklearn.model_selection import StratifiedKFold\n",
    "\n",
    "import pickle"
   ]
  },
  {
   "cell_type": "code",
   "execution_count": 2,
   "metadata": {},
   "outputs": [],
   "source": [
    "image_size = 256\n",
    "batch_size = 64\n",
    "device = 'mps'\n",
    "\n",
    "preprocess = transforms.Compose([\n",
    "    transforms.Resize((image_size, image_size)),\n",
    "    transforms.ToTensor(),\n",
    "    transforms.Normalize(mean=[0.485, 0.456, 0.406], std=[0.229, 0.224, 0.225])\n",
    "])"
   ]
  },
  {
   "cell_type": "code",
   "execution_count": 6,
   "metadata": {},
   "outputs": [],
   "source": [
    "def model_validation(k_fold, epochs):\n",
    "    k_folds = k_fold\n",
    "    epochs = epochs\n",
    "\n",
    "    # Load Dataset\n",
    "    dataset = datasets.ImageFolder(root='./dataset/train', transform=preprocess)\n",
    "    targets = [sample[1] for sample in dataset]  # Get the labels for stratification\n",
    "    skf = StratifiedKFold(n_splits=k_folds, shuffle=True, random_state=0)\n",
    "    results = []\n",
    "\n",
    "    for fold, (train_idx, val_idx) in enumerate(skf.split(np.zeros(len(dataset)), targets)):\n",
    "        print(f\"Fold {fold+1}/{k_folds}\")\n",
    "\n",
    "        # Create dataloaders for the current fold\n",
    "        train_subset = Subset(dataset, train_idx)\n",
    "        val_subset = Subset(dataset, val_idx)\n",
    "        train_loader = DataLoader(train_subset, batch_size=batch_size, shuffle=True)\n",
    "        val_loader = DataLoader(val_subset, batch_size=batch_size, shuffle=False)\n",
    "\n",
    "        model = models.resnet50(weights=models.ResNet50_Weights.IMAGENET1K_V2)\n",
    "        for param in model.parameters():\n",
    "            param.requires_grad = False\n",
    "        model.fc = nn.Sequential(\n",
    "            nn.Dropout(0.5),\n",
    "            nn.Linear(2048, 256),\n",
    "            nn.ReLU(),\n",
    "            nn.Linear(256, 1),\n",
    "        )\n",
    "        for param in model.fc.parameters():\n",
    "            param.requires_grad = True\n",
    "        model.to(device)\n",
    "\n",
    "        criterion = nn.BCEWithLogitsLoss()\n",
    "        optimizer = torch.optim.RMSprop(model.parameters(), lr=0.001)\n",
    "    \n",
    "        # Training\n",
    "        model.train()\n",
    "        for epoch in range(epochs):\n",
    "            train_loss = 0.0\n",
    "            for images, labels in train_loader:\n",
    "                images, labels = images.to(device), labels.to(device)\n",
    "                optimizer.zero_grad()\n",
    "                outputs = model(images)\n",
    "                labels = labels.unsqueeze(1).float()\n",
    "                loss = criterion(outputs, labels)\n",
    "                loss.backward()\n",
    "                optimizer.step()\n",
    "                train_loss += loss.item() * images.size(0)\n",
    "            train_loss /= len(train_loader.dataset)\n",
    "            print(f\"Fold {fold+1}, Epoch {epoch+1}, Train Loss: {train_loss:.4f}\")\n",
    "        # Validation\n",
    "        model.eval()\n",
    "        val_loss = 0.0\n",
    "        correct = 0\n",
    "        total = 0\n",
    "        with torch.no_grad():\n",
    "            for images, labels in val_loader:\n",
    "                images, labels = images.to(device), labels.to(device)\n",
    "                outputs = model(images)\n",
    "                labels = labels.unsqueeze(1).float()\n",
    "                loss = criterion(outputs, labels)\n",
    "                val_loss += loss.item() * images.size(0)\n",
    "                outputs = torch.sigmoid(outputs)\n",
    "                preds = (outputs > 0.50).int()\n",
    "                correct += (preds == labels).sum().item()\n",
    "                total += labels.size(0)\n",
    "        val_loss /= len(val_loader.dataset)\n",
    "        accuracy = correct / total\n",
    "        results.append({'fold': fold+1, 'val_loss': val_loss, 'accuracy': accuracy})\n",
    "        print(f\"Fold {fold+1}, Val Loss: {val_loss:.4f}, Accuracy: {accuracy:.4f}\")\n",
    "    # Final Results\n",
    "    print(\"\\nFinal Cross-Validation Results\")\n",
    "    print(\"-------------------------------\")\n",
    "    avg_acc = sum(r['accuracy'] for r in results) / k_folds\n",
    "    avg_std = np.std([r['accuracy'] for r in results])\n",
    "    print(f\"Average Accuracy: {avg_acc:.4f}\")\n",
    "    print(f\"Accuracy Std: {avg_std:.4f}\")"
   ]
  },
  {
   "cell_type": "code",
   "execution_count": 7,
   "metadata": {},
   "outputs": [
    {
     "name": "stdout",
     "output_type": "stream",
     "text": [
      "Fold 1/5\n",
      "Fold 1, Epoch 1, Train Loss: 0.3169\n",
      "Fold 1, Epoch 2, Train Loss: 0.1730\n",
      "Fold 1, Epoch 3, Train Loss: 0.1452\n",
      "Fold 1, Val Loss: 1.1501, Accuracy: 0.4990\n",
      "Fold 2/5\n",
      "Fold 2, Epoch 1, Train Loss: 0.3146\n",
      "Fold 2, Epoch 2, Train Loss: 0.1703\n",
      "Fold 2, Epoch 3, Train Loss: 0.1390\n",
      "Fold 2, Val Loss: 0.1229, Accuracy: 0.9521\n",
      "Fold 3/5\n",
      "Fold 3, Epoch 1, Train Loss: 0.3069\n",
      "Fold 3, Epoch 2, Train Loss: 0.1674\n",
      "Fold 3, Epoch 3, Train Loss: 0.1293\n",
      "Fold 3, Val Loss: 0.1874, Accuracy: 0.9252\n",
      "Fold 4/5\n",
      "Fold 4, Epoch 1, Train Loss: 0.3233\n",
      "Fold 4, Epoch 2, Train Loss: 0.1635\n",
      "Fold 4, Epoch 3, Train Loss: 0.1509\n",
      "Fold 4, Val Loss: 0.1195, Accuracy: 0.9511\n",
      "Fold 5/5\n",
      "Fold 5, Epoch 1, Train Loss: 0.2902\n",
      "Fold 5, Epoch 2, Train Loss: 0.1642\n",
      "Fold 5, Epoch 3, Train Loss: 0.1404\n",
      "Fold 5, Val Loss: 0.1122, Accuracy: 0.9588\n",
      "\n",
      "Final Cross-Validation Results\n",
      "-------------------------------\n",
      "Average Accuracy: 0.8572\n",
      "Accuracy Std: 0.1795\n"
     ]
    }
   ],
   "source": [
    "model_validation(k_fold=5, epochs=3)"
   ]
  },
  {
   "cell_type": "code",
   "execution_count": 8,
   "metadata": {},
   "outputs": [],
   "source": [
    "dataset_train = datasets.ImageFolder(root = './dataset/train', transform=preprocess)\n",
    "dataset_val = datasets.ImageFolder(root = './dataset/val', transform=preprocess)\n",
    "dataset_test = datasets.ImageFolder(root = './dataset/test', transform=preprocess)\n",
    "\n",
    "train_set = DataLoader(dataset_train, batch_size=batch_size, shuffle=True, num_workers=4)\n",
    "val_set = DataLoader(dataset_val, batch_size=batch_size, shuffle=False, num_workers=4)\n",
    "test_set = DataLoader(dataset_test, batch_size=batch_size, shuffle=False, num_workers=4)"
   ]
  },
  {
   "cell_type": "code",
   "execution_count": 9,
   "metadata": {},
   "outputs": [],
   "source": [
    "final_model = models.resnet50(weights=models.ResNet50_Weights.IMAGENET1K_V2)\n",
    "for param in final_model.parameters():\n",
    "    param.requires_grad = False\n",
    "final_model.fc = nn.Sequential(\n",
    "    nn.Dropout(0.5),\n",
    "    nn.Linear(2048, 256),\n",
    "    nn.ReLU(),\n",
    "    nn.Linear(256, 1),\n",
    ")\n",
    "for param in final_model.fc.parameters():\n",
    "    param.requires_grad = True\n"
   ]
  },
  {
   "cell_type": "code",
   "execution_count": 10,
   "metadata": {},
   "outputs": [],
   "source": [
    "final_model.to(device)\n",
    "\n",
    "criterion = nn.BCEWithLogitsLoss()\n",
    "optimizer = torch.optim.RMSprop(final_model.parameters(), lr=0.001)"
   ]
  },
  {
   "cell_type": "code",
   "execution_count": 11,
   "metadata": {},
   "outputs": [
    {
     "data": {
      "application/vnd.jupyter.widget-view+json": {
       "model_id": "c604bb1ba61e4bb9bde0da5a16cad5ca",
       "version_major": 2,
       "version_minor": 0
      },
      "text/plain": [
       "  0%|          | 0/82 [00:00<?, ?it/s]"
      ]
     },
     "metadata": {},
     "output_type": "display_data"
    },
    {
     "name": "stdout",
     "output_type": "stream",
     "text": [
      "Epoch 1/5, Loss: 0.2693\n"
     ]
    },
    {
     "data": {
      "application/vnd.jupyter.widget-view+json": {
       "model_id": "64eda168c8c84116809911bec1780a1a",
       "version_major": 2,
       "version_minor": 0
      },
      "text/plain": [
       "  0%|          | 0/82 [00:00<?, ?it/s]"
      ]
     },
     "metadata": {},
     "output_type": "display_data"
    },
    {
     "name": "stdout",
     "output_type": "stream",
     "text": [
      "Epoch 2/5, Loss: 0.1578\n"
     ]
    },
    {
     "data": {
      "application/vnd.jupyter.widget-view+json": {
       "model_id": "151bc1c6ef9c4f82802a0a1e2decee2b",
       "version_major": 2,
       "version_minor": 0
      },
      "text/plain": [
       "  0%|          | 0/82 [00:00<?, ?it/s]"
      ]
     },
     "metadata": {},
     "output_type": "display_data"
    },
    {
     "name": "stdout",
     "output_type": "stream",
     "text": [
      "Epoch 3/5, Loss: 0.1450\n"
     ]
    },
    {
     "data": {
      "application/vnd.jupyter.widget-view+json": {
       "model_id": "29ef316ad6ea44299963f212ec9888b7",
       "version_major": 2,
       "version_minor": 0
      },
      "text/plain": [
       "  0%|          | 0/82 [00:00<?, ?it/s]"
      ]
     },
     "metadata": {},
     "output_type": "display_data"
    },
    {
     "name": "stdout",
     "output_type": "stream",
     "text": [
      "Epoch 4/5, Loss: 0.1403\n"
     ]
    },
    {
     "data": {
      "application/vnd.jupyter.widget-view+json": {
       "model_id": "dceb722d1e2a45a5af5c13d9cd7b6b75",
       "version_major": 2,
       "version_minor": 0
      },
      "text/plain": [
       "  0%|          | 0/82 [00:00<?, ?it/s]"
      ]
     },
     "metadata": {},
     "output_type": "display_data"
    },
    {
     "name": "stdout",
     "output_type": "stream",
     "text": [
      "Epoch 5/5, Loss: 0.1261\n"
     ]
    }
   ],
   "source": [
    "epochs = 5\n",
    "\n",
    "for epoch in range(epochs):\n",
    "    running_loss = 0.0\n",
    "    for images, labels in tqdm(train_set):\n",
    "        images, labels = images.to('mps'), labels.to('mps')  # Binary labels with shape (-1, 1)\n",
    "        optimizer.zero_grad()\n",
    "        outputs = final_model(images)\n",
    "        labels = labels.unsqueeze(1).float()\n",
    "        loss = criterion(outputs, labels)\n",
    "        loss.backward()\n",
    "        optimizer.step()\n",
    "        running_loss += loss.item() * images.size(0)\n",
    "    epoch_loss = running_loss / len(train_set.dataset)\n",
    "    print(f\"Epoch {epoch+1}/{epochs}, Loss: {epoch_loss:.4f}\")"
   ]
  },
  {
   "cell_type": "code",
   "execution_count": 12,
   "metadata": {},
   "outputs": [
    {
     "data": {
      "application/vnd.jupyter.widget-view+json": {
       "model_id": "19fc292e098340a6ab51741516b1097f",
       "version_major": 2,
       "version_minor": 0
      },
      "text/plain": [
       "  0%|          | 0/10 [00:00<?, ?it/s]"
      ]
     },
     "metadata": {},
     "output_type": "display_data"
    }
   ],
   "source": [
    "final_model.eval()\n",
    "y_pred = np.array([])\n",
    "y_true = np.array(test_set.dataset.targets)\n",
    "with torch.no_grad():\n",
    "    for images, _ in tqdm(test_set):\n",
    "        images = images.to('mps')\n",
    "        outputs = final_model(images)\n",
    "        y_pred = np.append(y_pred, torch.sigmoid(outputs).view(-1).cpu().numpy())"
   ]
  },
  {
   "cell_type": "code",
   "execution_count": 13,
   "metadata": {},
   "outputs": [
    {
     "data": {
      "application/vnd.plotly.v1+json": {
       "config": {
        "plotlyServerURL": "https://plot.ly"
       },
       "data": [
        {
         "customdata": [
          [
           null
          ],
          [
           0.9999992847442627
          ],
          [
           0.9999946355819702
          ],
          [
           0.9999945163726807
          ],
          [
           0.999992847442627
          ],
          [
           0.9999926090240479
          ],
          [
           0.9999868869781494
          ],
          [
           0.9999864101409912
          ],
          [
           0.9999850988388062
          ],
          [
           0.999984622001648
          ],
          [
           0.9999767541885376
          ],
          [
           0.9999743700027466
          ],
          [
           0.9999678134918213
          ],
          [
           0.9999668598175049
          ],
          [
           0.9999655485153198
          ],
          [
           0.9999648332595825
          ],
          [
           0.9999547004699707
          ],
          [
           0.9999544620513916
          ],
          [
           0.9999432563781738
          ],
          [
           0.9999423027038574
          ],
          [
           0.999887228012085
          ],
          [
           0.9998871088027954
          ],
          [
           0.9995620846748352
          ],
          [
           0.9995606541633606
          ],
          [
           0.9993278980255127
          ],
          [
           0.9993137121200562
          ],
          [
           0.9992720484733582
          ],
          [
           0.9992688298225403
          ],
          [
           0.9991363883018494
          ],
          [
           0.9991311430931091
          ],
          [
           0.9988195300102234
          ],
          [
           0.9987825751304626
          ],
          [
           0.9977144002914429
          ],
          [
           0.9976916313171387
          ],
          [
           0.9969878792762756
          ],
          [
           0.9969876408576965
          ],
          [
           0.9958550333976746
          ],
          [
           0.9957732558250427
          ],
          [
           0.9937094449996948
          ],
          [
           0.993699312210083
          ],
          [
           0.9936980605125427
          ],
          [
           0.9936727285385132
          ],
          [
           0.9935706853866577
          ],
          [
           0.9930834770202637
          ],
          [
           0.9927454590797424
          ],
          [
           0.9925945401191711
          ],
          [
           0.9925931096076965
          ],
          [
           0.9917603135108948
          ],
          [
           0.9910734295845032
          ],
          [
           0.9909080266952515
          ],
          [
           0.9909062385559082
          ],
          [
           0.9851345419883728
          ],
          [
           0.9847941994667053
          ],
          [
           0.9828284382820129
          ],
          [
           0.981706440448761
          ],
          [
           0.9800743460655212
          ],
          [
           0.9799925684928894
          ],
          [
           0.9640225172042847
          ],
          [
           0.9611117243766785
          ],
          [
           0.9591121673583984
          ],
          [
           0.9572267532348633
          ],
          [
           0.9564449787139893
          ],
          [
           0.9541680216789246
          ],
          [
           0.9524503350257874
          ],
          [
           0.9522040486335754
          ],
          [
           0.9471207857131958
          ],
          [
           0.9418144822120667
          ],
          [
           0.9272732734680176
          ],
          [
           0.9129008054733276
          ],
          [
           0.8962649703025818
          ],
          [
           0.8926787972450256
          ],
          [
           0.8916289210319519
          ],
          [
           0.883205771446228
          ],
          [
           0.8806236982345581
          ],
          [
           0.875374436378479
          ],
          [
           0.8748740553855896
          ],
          [
           0.874481201171875
          ],
          [
           0.8727666735649109
          ],
          [
           0.8718715310096741
          ],
          [
           0.856157124042511
          ],
          [
           0.8397306799888611
          ],
          [
           0.8347673416137695
          ],
          [
           0.8249225616455078
          ],
          [
           0.8193468451499939
          ],
          [
           0.6943607330322266
          ],
          [
           0.6891741156578064
          ],
          [
           0.6168035864830017
          ],
          [
           0.6160163879394531
          ],
          [
           0.5123996138572693
          ],
          [
           0.5083551406860352
          ],
          [
           0.3510274887084961
          ],
          [
           0.34172287583351135
          ],
          [
           0.2206229716539383
          ],
          [
           0.21949157118797302
          ],
          [
           0.19473940134048462
          ],
          [
           0.1885693520307541
          ],
          [
           0.18020115792751312
          ],
          [
           0.17392536997795105
          ],
          [
           0.17167560756206512
          ],
          [
           0.0498320609331131
          ],
          [
           0.0465644896030426
          ],
          [
           0.0052476562559604645
          ]
         ],
         "fillpattern": {
          "shape": ""
         },
         "hovertemplate": "FPR=%{x}<br>TPR=%{y}<br>Thresholds=%{customdata[0]}<extra></extra>",
         "legendgroup": "",
         "line": {
          "color": "#636efa"
         },
         "marker": {
          "symbol": "circle"
         },
         "mode": "lines",
         "name": "",
         "orientation": "v",
         "showlegend": false,
         "stackgroup": "1",
         "type": "scatter",
         "x": [
          0,
          0,
          0,
          0,
          0,
          0,
          0,
          0,
          0,
          0.004273504273504274,
          0.004273504273504274,
          0.004273504273504274,
          0.004273504273504274,
          0.004273504273504274,
          0.004273504273504274,
          0.004273504273504274,
          0.004273504273504274,
          0.008547008547008548,
          0.008547008547008548,
          0.008547008547008548,
          0.008547008547008548,
          0.008547008547008548,
          0.008547008547008548,
          0.008547008547008548,
          0.008547008547008548,
          0.01282051282051282,
          0.01282051282051282,
          0.017094017094017096,
          0.017094017094017096,
          0.021367521367521368,
          0.021367521367521368,
          0.02564102564102564,
          0.02564102564102564,
          0.029914529914529916,
          0.029914529914529916,
          0.03418803418803419,
          0.03418803418803419,
          0.038461538461538464,
          0.038461538461538464,
          0.038461538461538464,
          0.042735042735042736,
          0.042735042735042736,
          0.04700854700854701,
          0.04700854700854701,
          0.05128205128205128,
          0.05128205128205128,
          0.05555555555555555,
          0.05555555555555555,
          0.05982905982905983,
          0.05982905982905983,
          0.0641025641025641,
          0.0641025641025641,
          0.06837606837606838,
          0.06837606837606838,
          0.07264957264957266,
          0.07264957264957266,
          0.07692307692307693,
          0.07692307692307693,
          0.08547008547008547,
          0.08547008547008547,
          0.10256410256410256,
          0.10256410256410256,
          0.10683760683760683,
          0.10683760683760683,
          0.1111111111111111,
          0.1111111111111111,
          0.12393162393162394,
          0.12393162393162394,
          0.13247863247863248,
          0.13247863247863248,
          0.13675213675213677,
          0.13675213675213677,
          0.15384615384615385,
          0.15384615384615385,
          0.1752136752136752,
          0.1752136752136752,
          0.18376068376068377,
          0.18376068376068377,
          0.18803418803418803,
          0.18803418803418803,
          0.21367521367521367,
          0.21367521367521367,
          0.23076923076923078,
          0.23076923076923078,
          0.29914529914529914,
          0.29914529914529914,
          0.3547008547008547,
          0.3547008547008547,
          0.39316239316239315,
          0.39316239316239315,
          0.49572649572649574,
          0.49572649572649574,
          0.6196581196581197,
          0.6196581196581197,
          0.6452991452991453,
          0.6538461538461539,
          0.6538461538461539,
          0.6666666666666666,
          0.6666666666666666,
          0.8504273504273504,
          0.8504273504273504,
          1
         ],
         "xaxis": "x",
         "y": [
          0,
          0.002564102564102564,
          0.017948717948717947,
          0.023076923076923078,
          0.03076923076923077,
          0.035897435897435895,
          0.07179487179487179,
          0.07692307692307693,
          0.08461538461538462,
          0.08461538461538462,
          0.11025641025641025,
          0.11538461538461539,
          0.13076923076923078,
          0.1358974358974359,
          0.13846153846153847,
          0.14358974358974358,
          0.16153846153846155,
          0.16153846153846155,
          0.17435897435897435,
          0.1794871794871795,
          0.2692307692307692,
          0.2743589743589744,
          0.4153846153846154,
          0.4230769230769231,
          0.45897435897435895,
          0.45897435897435895,
          0.4717948717948718,
          0.4717948717948718,
          0.49743589743589745,
          0.49743589743589745,
          0.541025641025641,
          0.541025641025641,
          0.6282051282051282,
          0.6282051282051282,
          0.6564102564102564,
          0.6564102564102564,
          0.6948717948717948,
          0.6948717948717948,
          0.7384615384615385,
          0.7435897435897436,
          0.7435897435897436,
          0.7461538461538462,
          0.7461538461538462,
          0.7615384615384615,
          0.7615384615384615,
          0.7666666666666667,
          0.7666666666666667,
          0.7794871794871795,
          0.7794871794871795,
          0.782051282051282,
          0.782051282051282,
          0.8256410256410256,
          0.8256410256410256,
          0.8307692307692308,
          0.8307692307692308,
          0.841025641025641,
          0.841025641025641,
          0.8846153846153846,
          0.8846153846153846,
          0.8871794871794871,
          0.8871794871794871,
          0.8897435897435897,
          0.8897435897435897,
          0.8948717948717949,
          0.8948717948717949,
          0.9025641025641026,
          0.9025641025641026,
          0.9179487179487179,
          0.9179487179487179,
          0.9358974358974359,
          0.9358974358974359,
          0.9384615384615385,
          0.9384615384615385,
          0.9461538461538461,
          0.9461538461538461,
          0.9487179487179487,
          0.9487179487179487,
          0.9512820512820512,
          0.9512820512820512,
          0.9717948717948718,
          0.9717948717948718,
          0.9743589743589743,
          0.9743589743589743,
          0.9769230769230769,
          0.9769230769230769,
          0.9794871794871794,
          0.9794871794871794,
          0.982051282051282,
          0.982051282051282,
          0.9871794871794872,
          0.9871794871794872,
          0.9897435897435898,
          0.9897435897435898,
          0.9923076923076923,
          0.9923076923076923,
          0.9923076923076923,
          0.9948717948717949,
          0.9948717948717949,
          0.9974358974358974,
          0.9974358974358974,
          1,
          1
         ],
         "yaxis": "y"
        }
       ],
       "layout": {
        "annotations": [
         {
          "showarrow": false,
          "text": "AUC=0.95438",
          "x": 0.5,
          "y": 0.5
         }
        ],
        "legend": {
         "tracegroupgap": 0
        },
        "margin": {
         "t": 60
        },
        "template": {
         "data": {
          "bar": [
           {
            "error_x": {
             "color": "#2a3f5f"
            },
            "error_y": {
             "color": "#2a3f5f"
            },
            "marker": {
             "line": {
              "color": "#E5ECF6",
              "width": 0.5
             },
             "pattern": {
              "fillmode": "overlay",
              "size": 10,
              "solidity": 0.2
             }
            },
            "type": "bar"
           }
          ],
          "barpolar": [
           {
            "marker": {
             "line": {
              "color": "#E5ECF6",
              "width": 0.5
             },
             "pattern": {
              "fillmode": "overlay",
              "size": 10,
              "solidity": 0.2
             }
            },
            "type": "barpolar"
           }
          ],
          "carpet": [
           {
            "aaxis": {
             "endlinecolor": "#2a3f5f",
             "gridcolor": "white",
             "linecolor": "white",
             "minorgridcolor": "white",
             "startlinecolor": "#2a3f5f"
            },
            "baxis": {
             "endlinecolor": "#2a3f5f",
             "gridcolor": "white",
             "linecolor": "white",
             "minorgridcolor": "white",
             "startlinecolor": "#2a3f5f"
            },
            "type": "carpet"
           }
          ],
          "choropleth": [
           {
            "colorbar": {
             "outlinewidth": 0,
             "ticks": ""
            },
            "type": "choropleth"
           }
          ],
          "contour": [
           {
            "colorbar": {
             "outlinewidth": 0,
             "ticks": ""
            },
            "colorscale": [
             [
              0,
              "#0d0887"
             ],
             [
              0.1111111111111111,
              "#46039f"
             ],
             [
              0.2222222222222222,
              "#7201a8"
             ],
             [
              0.3333333333333333,
              "#9c179e"
             ],
             [
              0.4444444444444444,
              "#bd3786"
             ],
             [
              0.5555555555555556,
              "#d8576b"
             ],
             [
              0.6666666666666666,
              "#ed7953"
             ],
             [
              0.7777777777777778,
              "#fb9f3a"
             ],
             [
              0.8888888888888888,
              "#fdca26"
             ],
             [
              1,
              "#f0f921"
             ]
            ],
            "type": "contour"
           }
          ],
          "contourcarpet": [
           {
            "colorbar": {
             "outlinewidth": 0,
             "ticks": ""
            },
            "type": "contourcarpet"
           }
          ],
          "heatmap": [
           {
            "colorbar": {
             "outlinewidth": 0,
             "ticks": ""
            },
            "colorscale": [
             [
              0,
              "#0d0887"
             ],
             [
              0.1111111111111111,
              "#46039f"
             ],
             [
              0.2222222222222222,
              "#7201a8"
             ],
             [
              0.3333333333333333,
              "#9c179e"
             ],
             [
              0.4444444444444444,
              "#bd3786"
             ],
             [
              0.5555555555555556,
              "#d8576b"
             ],
             [
              0.6666666666666666,
              "#ed7953"
             ],
             [
              0.7777777777777778,
              "#fb9f3a"
             ],
             [
              0.8888888888888888,
              "#fdca26"
             ],
             [
              1,
              "#f0f921"
             ]
            ],
            "type": "heatmap"
           }
          ],
          "heatmapgl": [
           {
            "colorbar": {
             "outlinewidth": 0,
             "ticks": ""
            },
            "colorscale": [
             [
              0,
              "#0d0887"
             ],
             [
              0.1111111111111111,
              "#46039f"
             ],
             [
              0.2222222222222222,
              "#7201a8"
             ],
             [
              0.3333333333333333,
              "#9c179e"
             ],
             [
              0.4444444444444444,
              "#bd3786"
             ],
             [
              0.5555555555555556,
              "#d8576b"
             ],
             [
              0.6666666666666666,
              "#ed7953"
             ],
             [
              0.7777777777777778,
              "#fb9f3a"
             ],
             [
              0.8888888888888888,
              "#fdca26"
             ],
             [
              1,
              "#f0f921"
             ]
            ],
            "type": "heatmapgl"
           }
          ],
          "histogram": [
           {
            "marker": {
             "pattern": {
              "fillmode": "overlay",
              "size": 10,
              "solidity": 0.2
             }
            },
            "type": "histogram"
           }
          ],
          "histogram2d": [
           {
            "colorbar": {
             "outlinewidth": 0,
             "ticks": ""
            },
            "colorscale": [
             [
              0,
              "#0d0887"
             ],
             [
              0.1111111111111111,
              "#46039f"
             ],
             [
              0.2222222222222222,
              "#7201a8"
             ],
             [
              0.3333333333333333,
              "#9c179e"
             ],
             [
              0.4444444444444444,
              "#bd3786"
             ],
             [
              0.5555555555555556,
              "#d8576b"
             ],
             [
              0.6666666666666666,
              "#ed7953"
             ],
             [
              0.7777777777777778,
              "#fb9f3a"
             ],
             [
              0.8888888888888888,
              "#fdca26"
             ],
             [
              1,
              "#f0f921"
             ]
            ],
            "type": "histogram2d"
           }
          ],
          "histogram2dcontour": [
           {
            "colorbar": {
             "outlinewidth": 0,
             "ticks": ""
            },
            "colorscale": [
             [
              0,
              "#0d0887"
             ],
             [
              0.1111111111111111,
              "#46039f"
             ],
             [
              0.2222222222222222,
              "#7201a8"
             ],
             [
              0.3333333333333333,
              "#9c179e"
             ],
             [
              0.4444444444444444,
              "#bd3786"
             ],
             [
              0.5555555555555556,
              "#d8576b"
             ],
             [
              0.6666666666666666,
              "#ed7953"
             ],
             [
              0.7777777777777778,
              "#fb9f3a"
             ],
             [
              0.8888888888888888,
              "#fdca26"
             ],
             [
              1,
              "#f0f921"
             ]
            ],
            "type": "histogram2dcontour"
           }
          ],
          "mesh3d": [
           {
            "colorbar": {
             "outlinewidth": 0,
             "ticks": ""
            },
            "type": "mesh3d"
           }
          ],
          "parcoords": [
           {
            "line": {
             "colorbar": {
              "outlinewidth": 0,
              "ticks": ""
             }
            },
            "type": "parcoords"
           }
          ],
          "pie": [
           {
            "automargin": true,
            "type": "pie"
           }
          ],
          "scatter": [
           {
            "fillpattern": {
             "fillmode": "overlay",
             "size": 10,
             "solidity": 0.2
            },
            "type": "scatter"
           }
          ],
          "scatter3d": [
           {
            "line": {
             "colorbar": {
              "outlinewidth": 0,
              "ticks": ""
             }
            },
            "marker": {
             "colorbar": {
              "outlinewidth": 0,
              "ticks": ""
             }
            },
            "type": "scatter3d"
           }
          ],
          "scattercarpet": [
           {
            "marker": {
             "colorbar": {
              "outlinewidth": 0,
              "ticks": ""
             }
            },
            "type": "scattercarpet"
           }
          ],
          "scattergeo": [
           {
            "marker": {
             "colorbar": {
              "outlinewidth": 0,
              "ticks": ""
             }
            },
            "type": "scattergeo"
           }
          ],
          "scattergl": [
           {
            "marker": {
             "colorbar": {
              "outlinewidth": 0,
              "ticks": ""
             }
            },
            "type": "scattergl"
           }
          ],
          "scattermapbox": [
           {
            "marker": {
             "colorbar": {
              "outlinewidth": 0,
              "ticks": ""
             }
            },
            "type": "scattermapbox"
           }
          ],
          "scatterpolar": [
           {
            "marker": {
             "colorbar": {
              "outlinewidth": 0,
              "ticks": ""
             }
            },
            "type": "scatterpolar"
           }
          ],
          "scatterpolargl": [
           {
            "marker": {
             "colorbar": {
              "outlinewidth": 0,
              "ticks": ""
             }
            },
            "type": "scatterpolargl"
           }
          ],
          "scatterternary": [
           {
            "marker": {
             "colorbar": {
              "outlinewidth": 0,
              "ticks": ""
             }
            },
            "type": "scatterternary"
           }
          ],
          "surface": [
           {
            "colorbar": {
             "outlinewidth": 0,
             "ticks": ""
            },
            "colorscale": [
             [
              0,
              "#0d0887"
             ],
             [
              0.1111111111111111,
              "#46039f"
             ],
             [
              0.2222222222222222,
              "#7201a8"
             ],
             [
              0.3333333333333333,
              "#9c179e"
             ],
             [
              0.4444444444444444,
              "#bd3786"
             ],
             [
              0.5555555555555556,
              "#d8576b"
             ],
             [
              0.6666666666666666,
              "#ed7953"
             ],
             [
              0.7777777777777778,
              "#fb9f3a"
             ],
             [
              0.8888888888888888,
              "#fdca26"
             ],
             [
              1,
              "#f0f921"
             ]
            ],
            "type": "surface"
           }
          ],
          "table": [
           {
            "cells": {
             "fill": {
              "color": "#EBF0F8"
             },
             "line": {
              "color": "white"
             }
            },
            "header": {
             "fill": {
              "color": "#C8D4E3"
             },
             "line": {
              "color": "white"
             }
            },
            "type": "table"
           }
          ]
         },
         "layout": {
          "annotationdefaults": {
           "arrowcolor": "#2a3f5f",
           "arrowhead": 0,
           "arrowwidth": 1
          },
          "autotypenumbers": "strict",
          "coloraxis": {
           "colorbar": {
            "outlinewidth": 0,
            "ticks": ""
           }
          },
          "colorscale": {
           "diverging": [
            [
             0,
             "#8e0152"
            ],
            [
             0.1,
             "#c51b7d"
            ],
            [
             0.2,
             "#de77ae"
            ],
            [
             0.3,
             "#f1b6da"
            ],
            [
             0.4,
             "#fde0ef"
            ],
            [
             0.5,
             "#f7f7f7"
            ],
            [
             0.6,
             "#e6f5d0"
            ],
            [
             0.7,
             "#b8e186"
            ],
            [
             0.8,
             "#7fbc41"
            ],
            [
             0.9,
             "#4d9221"
            ],
            [
             1,
             "#276419"
            ]
           ],
           "sequential": [
            [
             0,
             "#0d0887"
            ],
            [
             0.1111111111111111,
             "#46039f"
            ],
            [
             0.2222222222222222,
             "#7201a8"
            ],
            [
             0.3333333333333333,
             "#9c179e"
            ],
            [
             0.4444444444444444,
             "#bd3786"
            ],
            [
             0.5555555555555556,
             "#d8576b"
            ],
            [
             0.6666666666666666,
             "#ed7953"
            ],
            [
             0.7777777777777778,
             "#fb9f3a"
            ],
            [
             0.8888888888888888,
             "#fdca26"
            ],
            [
             1,
             "#f0f921"
            ]
           ],
           "sequentialminus": [
            [
             0,
             "#0d0887"
            ],
            [
             0.1111111111111111,
             "#46039f"
            ],
            [
             0.2222222222222222,
             "#7201a8"
            ],
            [
             0.3333333333333333,
             "#9c179e"
            ],
            [
             0.4444444444444444,
             "#bd3786"
            ],
            [
             0.5555555555555556,
             "#d8576b"
            ],
            [
             0.6666666666666666,
             "#ed7953"
            ],
            [
             0.7777777777777778,
             "#fb9f3a"
            ],
            [
             0.8888888888888888,
             "#fdca26"
            ],
            [
             1,
             "#f0f921"
            ]
           ]
          },
          "colorway": [
           "#636efa",
           "#EF553B",
           "#00cc96",
           "#ab63fa",
           "#FFA15A",
           "#19d3f3",
           "#FF6692",
           "#B6E880",
           "#FF97FF",
           "#FECB52"
          ],
          "font": {
           "color": "#2a3f5f"
          },
          "geo": {
           "bgcolor": "white",
           "lakecolor": "white",
           "landcolor": "#E5ECF6",
           "showlakes": true,
           "showland": true,
           "subunitcolor": "white"
          },
          "hoverlabel": {
           "align": "left"
          },
          "hovermode": "closest",
          "mapbox": {
           "style": "light"
          },
          "paper_bgcolor": "white",
          "plot_bgcolor": "#E5ECF6",
          "polar": {
           "angularaxis": {
            "gridcolor": "white",
            "linecolor": "white",
            "ticks": ""
           },
           "bgcolor": "#E5ECF6",
           "radialaxis": {
            "gridcolor": "white",
            "linecolor": "white",
            "ticks": ""
           }
          },
          "scene": {
           "xaxis": {
            "backgroundcolor": "#E5ECF6",
            "gridcolor": "white",
            "gridwidth": 2,
            "linecolor": "white",
            "showbackground": true,
            "ticks": "",
            "zerolinecolor": "white"
           },
           "yaxis": {
            "backgroundcolor": "#E5ECF6",
            "gridcolor": "white",
            "gridwidth": 2,
            "linecolor": "white",
            "showbackground": true,
            "ticks": "",
            "zerolinecolor": "white"
           },
           "zaxis": {
            "backgroundcolor": "#E5ECF6",
            "gridcolor": "white",
            "gridwidth": 2,
            "linecolor": "white",
            "showbackground": true,
            "ticks": "",
            "zerolinecolor": "white"
           }
          },
          "shapedefaults": {
           "line": {
            "color": "#2a3f5f"
           }
          },
          "ternary": {
           "aaxis": {
            "gridcolor": "white",
            "linecolor": "white",
            "ticks": ""
           },
           "baxis": {
            "gridcolor": "white",
            "linecolor": "white",
            "ticks": ""
           },
           "bgcolor": "#E5ECF6",
           "caxis": {
            "gridcolor": "white",
            "linecolor": "white",
            "ticks": ""
           }
          },
          "title": {
           "x": 0.05
          },
          "xaxis": {
           "automargin": true,
           "gridcolor": "white",
           "linecolor": "white",
           "ticks": "",
           "title": {
            "standoff": 15
           },
           "zerolinecolor": "white",
           "zerolinewidth": 2
          },
          "yaxis": {
           "automargin": true,
           "gridcolor": "white",
           "linecolor": "white",
           "ticks": "",
           "title": {
            "standoff": 15
           },
           "zerolinecolor": "white",
           "zerolinewidth": 2
          }
         }
        },
        "xaxis": {
         "anchor": "y",
         "domain": [
          0,
          1
         ],
         "title": {
          "text": "FPR"
         }
        },
        "yaxis": {
         "anchor": "x",
         "domain": [
          0,
          1
         ],
         "title": {
          "text": "TPR"
         }
        }
       }
      }
     },
     "metadata": {},
     "output_type": "display_data"
    }
   ],
   "source": [
    "fpr, tpr, thresholds = roc_curve(y_true, y_pred)\n",
    "roc_df = pd.DataFrame({\n",
    "    'FPR': fpr,\n",
    "    'TPR': tpr,\n",
    "    'Thresholds': thresholds\n",
    "})\n",
    "    \n",
    "fig = px.area(roc_df, x = 'FPR', y = 'TPR', hover_data=['Thresholds'])\n",
    "auc_score = roc_auc_score(y_true, y_pred)\n",
    "fig.add_annotation(x=0.5, y=0.5, text=f'AUC={auc_score:.5f}', showarrow=False)\n",
    "fig.show()"
   ]
  },
  {
   "cell_type": "code",
   "execution_count": 14,
   "metadata": {},
   "outputs": [
    {
     "name": "stdout",
     "output_type": "stream",
     "text": [
      "Accuracy: 0.85\n",
      "Confusion matrix:\n",
      "[[219  15]\n",
      " [ 81 309]]\n"
     ]
    }
   ],
   "source": [
    "y_pred_thr = (y_pred > 0.99).astype(int)\n",
    "accuracy = accuracy_score(y_true, y_pred_thr)\n",
    "conf_matrix = confusion_matrix(y_true, y_pred_thr)\n",
    "print(f\"Accuracy: {accuracy:.2f}\")\n",
    "print(f\"Confusion matrix:\\n{conf_matrix}\")"
   ]
  },
  {
   "cell_type": "code",
   "execution_count": 15,
   "metadata": {},
   "outputs": [],
   "source": [
    "model_file_path = './models/pytorch_model.pkl'\n",
    "\n",
    "with open(model_file_path, 'wb') as write_file:\n",
    "    pickle.dump(final_model, write_file)"
   ]
  }
 ],
 "metadata": {
  "kernelspec": {
   "display_name": "Python 3.11 (main)",
   "language": "python",
   "name": "pytorch"
  },
  "language_info": {
   "codemirror_mode": {
    "name": "ipython",
    "version": 3
   },
   "file_extension": ".py",
   "mimetype": "text/x-python",
   "name": "python",
   "nbconvert_exporter": "python",
   "pygments_lexer": "ipython3",
   "version": "3.11.10"
  }
 },
 "nbformat": 4,
 "nbformat_minor": 2
}
