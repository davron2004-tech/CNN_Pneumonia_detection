{
 "cells": [
  {
   "cell_type": "code",
   "execution_count": 1,
   "metadata": {},
   "outputs": [],
   "source": [
    "import torch\n",
    "import torch.nn as nn\n",
    "import torchvision.models as models\n",
    "\n",
    "from torch.utils.data import DataLoader, Subset\n",
    "from torchvision import transforms, datasets\n",
    "\n",
    "import numpy as np\n",
    "import pandas as pd\n",
    "\n",
    "from sklearn.metrics import accuracy_score, confusion_matrix, roc_auc_score, roc_curve\n",
    "import plotly.express as px\n",
    "\n",
    "from tqdm.notebook import tqdm\n",
    "\n",
    "from sklearn.model_selection import StratifiedKFold"
   ]
  },
  {
   "cell_type": "code",
   "execution_count": 2,
   "metadata": {},
   "outputs": [],
   "source": [
    "image_size = 256\n",
    "batch_size = 64\n",
    "device = 'mps'\n",
    "\n",
    "preprocess = transforms.Compose([\n",
    "    transforms.Resize((image_size, image_size)),\n",
    "    transforms.ToTensor(),\n",
    "    transforms.Normalize(mean=[0.485, 0.456, 0.406], std=[0.229, 0.224, 0.225])\n",
    "])"
   ]
  },
  {
   "cell_type": "code",
   "execution_count": 6,
   "metadata": {},
   "outputs": [],
   "source": [
    "def model_validation(k_fold, epochs):\n",
    "    k_folds = k_fold\n",
    "    epochs = epochs\n",
    "\n",
    "    # Load Dataset\n",
    "    dataset = datasets.ImageFolder(root='./dataset/train', transform=preprocess)\n",
    "    targets = [sample[1] for sample in dataset]  # Get the labels for stratification\n",
    "    skf = StratifiedKFold(n_splits=k_folds, shuffle=True, random_state=0)\n",
    "    results = []\n",
    "\n",
    "    for fold, (train_idx, val_idx) in enumerate(skf.split(np.zeros(len(dataset)), targets)):\n",
    "        print(f\"Fold {fold+1}/{k_folds}\")\n",
    "\n",
    "        # Create dataloaders for the current fold\n",
    "        train_subset = Subset(dataset, train_idx)\n",
    "        val_subset = Subset(dataset, val_idx)\n",
    "        train_loader = DataLoader(train_subset, batch_size=batch_size, shuffle=True)\n",
    "        val_loader = DataLoader(val_subset, batch_size=batch_size, shuffle=False)\n",
    "\n",
    "        model = models.resnet50(weights=models.ResNet50_Weights.IMAGENET1K_V2)\n",
    "        for param in model.parameters():\n",
    "            param.requires_grad = False\n",
    "        model.fc = nn.Sequential(\n",
    "            nn.Dropout(0.5),\n",
    "            nn.Linear(2048, 256),\n",
    "            nn.ReLU(),\n",
    "            nn.Linear(256, 1),\n",
    "        )\n",
    "        for param in model.fc.parameters():\n",
    "            param.requires_grad = True\n",
    "        model.to(device)\n",
    "\n",
    "        criterion = nn.BCEWithLogitsLoss()\n",
    "        optimizer = torch.optim.RMSprop(model.parameters(), lr=0.001)\n",
    "    \n",
    "        # Training\n",
    "        model.train()\n",
    "        for epoch in range(epochs):\n",
    "            train_loss = 0.0\n",
    "            for images, labels in train_loader:\n",
    "                images, labels = images.to(device), labels.to(device)\n",
    "                optimizer.zero_grad()\n",
    "                outputs = model(images)\n",
    "                labels = labels.unsqueeze(1).float()\n",
    "                loss = criterion(outputs, labels)\n",
    "                loss.backward()\n",
    "                optimizer.step()\n",
    "                train_loss += loss.item() * images.size(0)\n",
    "            train_loss /= len(train_loader.dataset)\n",
    "            print(f\"Fold {fold+1}, Epoch {epoch+1}, Train Loss: {train_loss:.4f}\")\n",
    "        # Validation\n",
    "        model.eval()\n",
    "        val_loss = 0.0\n",
    "        correct = 0\n",
    "        total = 0\n",
    "        with torch.no_grad():\n",
    "            for images, labels in val_loader:\n",
    "                images, labels = images.to(device), labels.to(device)\n",
    "                outputs = model(images)\n",
    "                labels = labels.unsqueeze(1).float()\n",
    "                loss = criterion(outputs, labels)\n",
    "                val_loss += loss.item() * images.size(0)\n",
    "                outputs = torch.sigmoid(outputs)\n",
    "                preds = (outputs > 0.50).int()\n",
    "                correct += (preds == labels).sum().item()\n",
    "                total += labels.size(0)\n",
    "        val_loss /= len(val_loader.dataset)\n",
    "        accuracy = correct / total\n",
    "        results.append({'fold': fold+1, 'val_loss': val_loss, 'accuracy': accuracy})\n",
    "        print(f\"Fold {fold+1}, Val Loss: {val_loss:.4f}, Accuracy: {accuracy:.4f}\")\n",
    "    # Final Results\n",
    "    print(\"\\nFinal Cross-Validation Results\")\n",
    "    print(\"-------------------------------\")\n",
    "    avg_acc = sum(r['accuracy'] for r in results) / k_folds\n",
    "    avg_std = np.std([r['accuracy'] for r in results])\n",
    "    print(f\"Average Accuracy: {avg_acc:.4f}\")\n",
    "    print(f\"Accuracy Std: {avg_std:.4f}\")"
   ]
  },
  {
   "cell_type": "code",
   "execution_count": 7,
   "metadata": {},
   "outputs": [
    {
     "name": "stdout",
     "output_type": "stream",
     "text": [
      "Fold 1/5\n",
      "Fold 1, Epoch 1, Train Loss: 0.3169\n",
      "Fold 1, Epoch 2, Train Loss: 0.1730\n",
      "Fold 1, Epoch 3, Train Loss: 0.1452\n",
      "Fold 1, Val Loss: 1.1501, Accuracy: 0.4990\n",
      "Fold 2/5\n",
      "Fold 2, Epoch 1, Train Loss: 0.3146\n",
      "Fold 2, Epoch 2, Train Loss: 0.1703\n",
      "Fold 2, Epoch 3, Train Loss: 0.1390\n",
      "Fold 2, Val Loss: 0.1229, Accuracy: 0.9521\n",
      "Fold 3/5\n",
      "Fold 3, Epoch 1, Train Loss: 0.3069\n",
      "Fold 3, Epoch 2, Train Loss: 0.1674\n",
      "Fold 3, Epoch 3, Train Loss: 0.1293\n",
      "Fold 3, Val Loss: 0.1874, Accuracy: 0.9252\n",
      "Fold 4/5\n",
      "Fold 4, Epoch 1, Train Loss: 0.3233\n",
      "Fold 4, Epoch 2, Train Loss: 0.1635\n",
      "Fold 4, Epoch 3, Train Loss: 0.1509\n",
      "Fold 4, Val Loss: 0.1195, Accuracy: 0.9511\n",
      "Fold 5/5\n",
      "Fold 5, Epoch 1, Train Loss: 0.2902\n",
      "Fold 5, Epoch 2, Train Loss: 0.1642\n",
      "Fold 5, Epoch 3, Train Loss: 0.1404\n",
      "Fold 5, Val Loss: 0.1122, Accuracy: 0.9588\n",
      "\n",
      "Final Cross-Validation Results\n",
      "-------------------------------\n",
      "Average Accuracy: 0.8572\n",
      "Accuracy Std: 0.1795\n"
     ]
    }
   ],
   "source": [
    "model_validation(k_fold=5, epochs=3)"
   ]
  },
  {
   "cell_type": "code",
   "execution_count": 3,
   "metadata": {},
   "outputs": [],
   "source": [
    "dataset_train = datasets.ImageFolder(root = './dataset/train', transform=preprocess)\n",
    "dataset_val = datasets.ImageFolder(root = './dataset/val', transform=preprocess)\n",
    "dataset_test = datasets.ImageFolder(root = './dataset/test', transform=preprocess)\n",
    "\n",
    "train_set = DataLoader(dataset_train, batch_size=batch_size, shuffle=True, num_workers=4)\n",
    "val_set = DataLoader(dataset_val, batch_size=batch_size, shuffle=False, num_workers=4)\n",
    "test_set = DataLoader(dataset_test, batch_size=batch_size, shuffle=False, num_workers=4)"
   ]
  },
  {
   "cell_type": "code",
   "execution_count": 4,
   "metadata": {},
   "outputs": [],
   "source": [
    "final_model = models.resnet50(weights=models.ResNet50_Weights.IMAGENET1K_V2)\n",
    "for param in final_model.parameters():\n",
    "    param.requires_grad = False\n",
    "final_model.fc = nn.Sequential(\n",
    "    nn.Dropout(0.5),\n",
    "    nn.Linear(2048, 256),\n",
    "    nn.ReLU(),\n",
    "    nn.Linear(256, 1),\n",
    ")\n",
    "for param in final_model.fc.parameters():\n",
    "    param.requires_grad = True\n"
   ]
  },
  {
   "cell_type": "code",
   "execution_count": 5,
   "metadata": {},
   "outputs": [],
   "source": [
    "final_model.to(device)\n",
    "\n",
    "criterion = nn.BCEWithLogitsLoss()\n",
    "optimizer = torch.optim.RMSprop(final_model.parameters(), lr=0.001)"
   ]
  },
  {
   "cell_type": "code",
   "execution_count": 6,
   "metadata": {},
   "outputs": [
    {
     "data": {
      "application/vnd.jupyter.widget-view+json": {
       "model_id": "0247a6270de14058a4af12902fa04186",
       "version_major": 2,
       "version_minor": 0
      },
      "text/plain": [
       "  0%|          | 0/82 [00:00<?, ?it/s]"
      ]
     },
     "metadata": {},
     "output_type": "display_data"
    },
    {
     "name": "stdout",
     "output_type": "stream",
     "text": [
      "Epoch 1/5, Loss: 0.3363\n"
     ]
    },
    {
     "data": {
      "application/vnd.jupyter.widget-view+json": {
       "model_id": "e37eadf86a304d77a13dbd5e8a0bc268",
       "version_major": 2,
       "version_minor": 0
      },
      "text/plain": [
       "  0%|          | 0/82 [00:00<?, ?it/s]"
      ]
     },
     "metadata": {},
     "output_type": "display_data"
    },
    {
     "name": "stdout",
     "output_type": "stream",
     "text": [
      "Epoch 2/5, Loss: 0.2536\n"
     ]
    },
    {
     "data": {
      "application/vnd.jupyter.widget-view+json": {
       "model_id": "62ba2c074ee94b56b35291134b38620a",
       "version_major": 2,
       "version_minor": 0
      },
      "text/plain": [
       "  0%|          | 0/82 [00:00<?, ?it/s]"
      ]
     },
     "metadata": {},
     "output_type": "display_data"
    },
    {
     "name": "stdout",
     "output_type": "stream",
     "text": [
      "Epoch 3/5, Loss: 0.2347\n"
     ]
    },
    {
     "data": {
      "application/vnd.jupyter.widget-view+json": {
       "model_id": "01c269a4aff54dbdbfff9fae2bb5b0fc",
       "version_major": 2,
       "version_minor": 0
      },
      "text/plain": [
       "  0%|          | 0/82 [00:00<?, ?it/s]"
      ]
     },
     "metadata": {},
     "output_type": "display_data"
    },
    {
     "name": "stdout",
     "output_type": "stream",
     "text": [
      "Epoch 4/5, Loss: 0.2252\n"
     ]
    },
    {
     "data": {
      "application/vnd.jupyter.widget-view+json": {
       "model_id": "fb2ab2b536dd40718263b8a2d09256fb",
       "version_major": 2,
       "version_minor": 0
      },
      "text/plain": [
       "  0%|          | 0/82 [00:00<?, ?it/s]"
      ]
     },
     "metadata": {},
     "output_type": "display_data"
    },
    {
     "name": "stdout",
     "output_type": "stream",
     "text": [
      "Epoch 5/5, Loss: 0.2116\n"
     ]
    }
   ],
   "source": [
    "epochs = 5\n",
    "\n",
    "for epoch in range(epochs):\n",
    "    running_loss = 0.0\n",
    "    for images, labels in tqdm(train_set):\n",
    "        images, labels = images.to('mps'), labels.to('mps')  # Binary labels with shape (-1, 1)\n",
    "        optimizer.zero_grad()\n",
    "        outputs = final_model(images)\n",
    "        labels = labels.unsqueeze(1).float()\n",
    "        loss = criterion(outputs, labels)\n",
    "        loss.backward()\n",
    "        optimizer.step()\n",
    "        running_loss += loss.item() * images.size(0)\n",
    "    epoch_loss = running_loss / len(train_set.dataset)\n",
    "    print(f\"Epoch {epoch+1}/{epochs}, Loss: {epoch_loss:.4f}\")"
   ]
  },
  {
   "cell_type": "code",
   "execution_count": 7,
   "metadata": {},
   "outputs": [
    {
     "data": {
      "application/vnd.jupyter.widget-view+json": {
       "model_id": "7c3ff7585f38467f90d0b76466e8fcfb",
       "version_major": 2,
       "version_minor": 0
      },
      "text/plain": [
       "  0%|          | 0/10 [00:00<?, ?it/s]"
      ]
     },
     "metadata": {},
     "output_type": "display_data"
    }
   ],
   "source": [
    "final_model.eval()\n",
    "y_pred = np.array([])\n",
    "y_true = np.array(test_set.dataset.targets)\n",
    "with torch.no_grad():\n",
    "    for images, _ in tqdm(test_set):\n",
    "        images = images.to('mps')\n",
    "        outputs = final_model(images)\n",
    "        y_pred = np.append(y_pred, torch.sigmoid(outputs).view(-1).cpu().numpy())"
   ]
  },
  {
   "cell_type": "code",
   "execution_count": 8,
   "metadata": {},
   "outputs": [
    {
     "data": {
      "application/vnd.plotly.v1+json": {
       "config": {
        "plotlyServerURL": "https://plot.ly"
       },
       "data": [
        {
         "customdata": [
          [
           null
          ],
          [
           0.9999998807907104
          ],
          [
           0.9999984502792358
          ],
          [
           0.9999982118606567
          ],
          [
           0.9999979734420776
          ],
          [
           0.9999978542327881
          ],
          [
           0.9999970197677612
          ],
          [
           0.9999969005584717
          ],
          [
           0.9999967813491821
          ],
          [
           0.9999964237213135
          ],
          [
           0.9999963045120239
          ],
          [
           0.9999949932098389
          ],
          [
           0.9999948740005493
          ],
          [
           0.9999939203262329
          ],
          [
           0.9999878406524658
          ],
          [
           0.9999876022338867
          ],
          [
           0.9999841451644897
          ],
          [
           0.9999833106994629
          ],
          [
           0.9999773502349854
          ],
          [
           0.9999747276306152
          ],
          [
           0.9999731779098511
          ],
          [
           0.9999703168869019
          ],
          [
           0.9999696016311646
          ],
          [
           0.9999463558197021
          ],
          [
           0.9999445676803589
          ],
          [
           0.99986732006073
          ],
          [
           0.9998651742935181
          ],
          [
           0.9995111227035522
          ],
          [
           0.9995033740997314
          ],
          [
           0.9994727969169617
          ],
          [
           0.9994662404060364
          ],
          [
           0.999402642250061
          ],
          [
           0.9993840456008911
          ],
          [
           0.9992606043815613
          ],
          [
           0.9992198944091797
          ],
          [
           0.9987550973892212
          ],
          [
           0.9986224174499512
          ],
          [
           0.9978582262992859
          ],
          [
           0.9978101849555969
          ],
          [
           0.9966926574707031
          ],
          [
           0.9964775443077087
          ],
          [
           0.9963550567626953
          ],
          [
           0.9963500499725342
          ],
          [
           0.996121346950531
          ],
          [
           0.9960322976112366
          ],
          [
           0.994825005531311
          ],
          [
           0.9947052597999573
          ],
          [
           0.9910888671875
          ],
          [
           0.9906948804855347
          ],
          [
           0.9898155927658081
          ],
          [
           0.9893144369125366
          ],
          [
           0.9867588877677917
          ],
          [
           0.9860390424728394
          ],
          [
           0.9833125472068787
          ],
          [
           0.9830034971237183
          ],
          [
           0.9783691167831421
          ],
          [
           0.9780495762825012
          ],
          [
           0.9763521552085876
          ],
          [
           0.9763005971908569
          ],
          [
           0.96540367603302
          ],
          [
           0.9613511562347412
          ],
          [
           0.9395543336868286
          ],
          [
           0.9379836320877075
          ],
          [
           0.9368630647659302
          ],
          [
           0.9366134405136108
          ],
          [
           0.9309433698654175
          ],
          [
           0.9275680184364319
          ],
          [
           0.9262394309043884
          ],
          [
           0.9235976338386536
          ],
          [
           0.9187805652618408
          ],
          [
           0.9187368154525757
          ],
          [
           0.916912317276001
          ],
          [
           0.8970128893852234
          ],
          [
           0.8803034424781799
          ],
          [
           0.8736881017684937
          ],
          [
           0.8620867729187012
          ],
          [
           0.8584508299827576
          ],
          [
           0.8567696809768677
          ],
          [
           0.8565797805786133
          ],
          [
           0.8518844246864319
          ],
          [
           0.8473045229911804
          ],
          [
           0.838573694229126
          ],
          [
           0.8380038738250732
          ],
          [
           0.8355653882026672
          ],
          [
           0.8048194050788879
          ],
          [
           0.8005321025848389
          ],
          [
           0.7999531626701355
          ],
          [
           0.7966041564941406
          ],
          [
           0.7924189567565918
          ],
          [
           0.7890306711196899
          ],
          [
           0.7883333563804626
          ],
          [
           0.7616834044456482
          ],
          [
           0.7400582432746887
          ],
          [
           0.7394949197769165
          ],
          [
           0.6573156118392944
          ],
          [
           0.6351518034934998
          ],
          [
           0.6194237470626831
          ],
          [
           0.6181108355522156
          ],
          [
           0.587797224521637
          ],
          [
           0.57945317029953
          ],
          [
           0.5243341326713562
          ],
          [
           0.5242509245872498
          ],
          [
           0.509446918964386
          ],
          [
           0.4887445271015167
          ],
          [
           0.45995789766311646
          ],
          [
           0.45103296637535095
          ],
          [
           0.43776199221611023
          ],
          [
           0.43607622385025024
          ],
          [
           0.4274439513683319
          ],
          [
           0.4271117150783539
          ],
          [
           0.4172174036502838
          ],
          [
           0.417104035615921
          ],
          [
           0.41110536456108093
          ],
          [
           0.41068220138549805
          ],
          [
           0.4100922644138336
          ],
          [
           0.41003793478012085
          ],
          [
           0.40921643376350403
          ],
          [
           0.4091995060443878
          ]
         ],
         "fillpattern": {
          "shape": ""
         },
         "hovertemplate": "FPR=%{x}<br>TPR=%{y}<br>Thresholds=%{customdata[0]}<extra></extra>",
         "legendgroup": "",
         "line": {
          "color": "#636efa"
         },
         "marker": {
          "symbol": "circle"
         },
         "mode": "lines",
         "name": "",
         "orientation": "v",
         "showlegend": false,
         "stackgroup": "1",
         "type": "scatter",
         "x": [
          0,
          0,
          0,
          0,
          0,
          0,
          0,
          0,
          0,
          0.004273504273504274,
          0.004273504273504274,
          0.004273504273504274,
          0.004273504273504274,
          0.004273504273504274,
          0.004273504273504274,
          0.004273504273504274,
          0.004273504273504274,
          0.004273504273504274,
          0.004273504273504274,
          0.004273504273504274,
          0.004273504273504274,
          0.004273504273504274,
          0.008547008547008548,
          0.008547008547008548,
          0.008547008547008548,
          0.008547008547008548,
          0.008547008547008548,
          0.008547008547008548,
          0.01282051282051282,
          0.01282051282051282,
          0.01282051282051282,
          0.01282051282051282,
          0.017094017094017096,
          0.017094017094017096,
          0.021367521367521368,
          0.021367521367521368,
          0.02564102564102564,
          0.02564102564102564,
          0.029914529914529916,
          0.029914529914529916,
          0.03418803418803419,
          0.03418803418803419,
          0.03418803418803419,
          0.03418803418803419,
          0.038461538461538464,
          0.038461538461538464,
          0.042735042735042736,
          0.042735042735042736,
          0.04700854700854701,
          0.04700854700854701,
          0.05128205128205128,
          0.05128205128205128,
          0.05555555555555555,
          0.05555555555555555,
          0.05982905982905983,
          0.05982905982905983,
          0.0641025641025641,
          0.0641025641025641,
          0.06837606837606838,
          0.06837606837606838,
          0.07264957264957266,
          0.07264957264957266,
          0.07692307692307693,
          0.07692307692307693,
          0.0811965811965812,
          0.0811965811965812,
          0.08974358974358974,
          0.08974358974358974,
          0.09401709401709402,
          0.09401709401709402,
          0.10256410256410256,
          0.1111111111111111,
          0.1111111111111111,
          0.1282051282051282,
          0.1282051282051282,
          0.13675213675213677,
          0.13675213675213677,
          0.1452991452991453,
          0.14957264957264957,
          0.14957264957264957,
          0.1623931623931624,
          0.1623931623931624,
          0.16666666666666666,
          0.16666666666666666,
          0.18376068376068377,
          0.18376068376068377,
          0.18803418803418803,
          0.18803418803418803,
          0.19658119658119658,
          0.19658119658119658,
          0.20085470085470086,
          0.20085470085470086,
          0.2094017094017094,
          0.2094017094017094,
          0.2777777777777778,
          0.2777777777777778,
          0.28205128205128205,
          0.28205128205128205,
          0.3034188034188034,
          0.3034188034188034,
          0.34615384615384615,
          0.34615384615384615,
          0.37606837606837606,
          0.37606837606837606,
          0.4230769230769231,
          0.4230769230769231,
          0.4658119658119658,
          0.4658119658119658,
          0.5,
          0.5,
          0.5470085470085471,
          0.5470085470085471,
          0.6111111111111112,
          0.6111111111111112,
          0.6367521367521367,
          0.6367521367521367,
          0.6581196581196581,
          1
         ],
         "xaxis": "x",
         "y": [
          0,
          0.005128205128205128,
          0.023076923076923078,
          0.028205128205128206,
          0.03333333333333333,
          0.038461538461538464,
          0.04871794871794872,
          0.05384615384615385,
          0.05641025641025641,
          0.06153846153846154,
          0.06923076923076923,
          0.08717948717948718,
          0.09743589743589744,
          0.1076923076923077,
          0.1358974358974359,
          0.14102564102564102,
          0.16153846153846155,
          0.16666666666666666,
          0.18461538461538463,
          0.19487179487179487,
          0.20256410256410257,
          0.21025641025641026,
          0.21025641025641026,
          0.2512820512820513,
          0.2564102564102564,
          0.32564102564102565,
          0.33076923076923076,
          0.4666666666666667,
          0.4666666666666667,
          0.4717948717948718,
          0.47692307692307695,
          0.48717948717948717,
          0.48717948717948717,
          0.5153846153846153,
          0.5153846153846153,
          0.5871794871794872,
          0.5871794871794872,
          0.6230769230769231,
          0.6230769230769231,
          0.6717948717948717,
          0.6717948717948717,
          0.676923076923077,
          0.6820512820512821,
          0.6897435897435897,
          0.6897435897435897,
          0.7230769230769231,
          0.7230769230769231,
          0.7794871794871795,
          0.7794871794871795,
          0.7871794871794872,
          0.7871794871794872,
          0.8051282051282052,
          0.8051282051282052,
          0.823076923076923,
          0.823076923076923,
          0.8358974358974359,
          0.8358974358974359,
          0.841025641025641,
          0.841025641025641,
          0.8589743589743589,
          0.8589743589743589,
          0.8897435897435897,
          0.8897435897435897,
          0.8948717948717949,
          0.8948717948717949,
          0.9025641025641026,
          0.9025641025641026,
          0.9051282051282051,
          0.9051282051282051,
          0.9102564102564102,
          0.9102564102564102,
          0.9102564102564102,
          0.9179487179487179,
          0.9179487179487179,
          0.9256410256410257,
          0.9256410256410257,
          0.9282051282051282,
          0.9282051282051282,
          0.9282051282051282,
          0.9333333333333333,
          0.9333333333333333,
          0.9384615384615385,
          0.9384615384615385,
          0.941025641025641,
          0.941025641025641,
          0.9461538461538461,
          0.9461538461538461,
          0.9487179487179487,
          0.9487179487179487,
          0.9512820512820512,
          0.9512820512820512,
          0.9641025641025641,
          0.9641025641025641,
          0.9666666666666667,
          0.9666666666666667,
          0.9717948717948718,
          0.9717948717948718,
          0.9743589743589743,
          0.9743589743589743,
          0.9769230769230769,
          0.9769230769230769,
          0.9794871794871794,
          0.9794871794871794,
          0.982051282051282,
          0.982051282051282,
          0.9846153846153847,
          0.9846153846153847,
          0.9871794871794872,
          0.9871794871794872,
          0.9897435897435898,
          0.9897435897435898,
          0.9923076923076923,
          0.9923076923076923,
          0.9948717948717949,
          0.9948717948717949,
          0.9974358974358974,
          0.9974358974358974,
          1
         ],
         "yaxis": "y"
        }
       ],
       "layout": {
        "annotations": [
         {
          "showarrow": false,
          "text": "AUC=0.95530",
          "x": 0.5,
          "y": 0.5
         }
        ],
        "legend": {
         "tracegroupgap": 0
        },
        "margin": {
         "t": 60
        },
        "template": {
         "data": {
          "bar": [
           {
            "error_x": {
             "color": "#2a3f5f"
            },
            "error_y": {
             "color": "#2a3f5f"
            },
            "marker": {
             "line": {
              "color": "#E5ECF6",
              "width": 0.5
             },
             "pattern": {
              "fillmode": "overlay",
              "size": 10,
              "solidity": 0.2
             }
            },
            "type": "bar"
           }
          ],
          "barpolar": [
           {
            "marker": {
             "line": {
              "color": "#E5ECF6",
              "width": 0.5
             },
             "pattern": {
              "fillmode": "overlay",
              "size": 10,
              "solidity": 0.2
             }
            },
            "type": "barpolar"
           }
          ],
          "carpet": [
           {
            "aaxis": {
             "endlinecolor": "#2a3f5f",
             "gridcolor": "white",
             "linecolor": "white",
             "minorgridcolor": "white",
             "startlinecolor": "#2a3f5f"
            },
            "baxis": {
             "endlinecolor": "#2a3f5f",
             "gridcolor": "white",
             "linecolor": "white",
             "minorgridcolor": "white",
             "startlinecolor": "#2a3f5f"
            },
            "type": "carpet"
           }
          ],
          "choropleth": [
           {
            "colorbar": {
             "outlinewidth": 0,
             "ticks": ""
            },
            "type": "choropleth"
           }
          ],
          "contour": [
           {
            "colorbar": {
             "outlinewidth": 0,
             "ticks": ""
            },
            "colorscale": [
             [
              0,
              "#0d0887"
             ],
             [
              0.1111111111111111,
              "#46039f"
             ],
             [
              0.2222222222222222,
              "#7201a8"
             ],
             [
              0.3333333333333333,
              "#9c179e"
             ],
             [
              0.4444444444444444,
              "#bd3786"
             ],
             [
              0.5555555555555556,
              "#d8576b"
             ],
             [
              0.6666666666666666,
              "#ed7953"
             ],
             [
              0.7777777777777778,
              "#fb9f3a"
             ],
             [
              0.8888888888888888,
              "#fdca26"
             ],
             [
              1,
              "#f0f921"
             ]
            ],
            "type": "contour"
           }
          ],
          "contourcarpet": [
           {
            "colorbar": {
             "outlinewidth": 0,
             "ticks": ""
            },
            "type": "contourcarpet"
           }
          ],
          "heatmap": [
           {
            "colorbar": {
             "outlinewidth": 0,
             "ticks": ""
            },
            "colorscale": [
             [
              0,
              "#0d0887"
             ],
             [
              0.1111111111111111,
              "#46039f"
             ],
             [
              0.2222222222222222,
              "#7201a8"
             ],
             [
              0.3333333333333333,
              "#9c179e"
             ],
             [
              0.4444444444444444,
              "#bd3786"
             ],
             [
              0.5555555555555556,
              "#d8576b"
             ],
             [
              0.6666666666666666,
              "#ed7953"
             ],
             [
              0.7777777777777778,
              "#fb9f3a"
             ],
             [
              0.8888888888888888,
              "#fdca26"
             ],
             [
              1,
              "#f0f921"
             ]
            ],
            "type": "heatmap"
           }
          ],
          "heatmapgl": [
           {
            "colorbar": {
             "outlinewidth": 0,
             "ticks": ""
            },
            "colorscale": [
             [
              0,
              "#0d0887"
             ],
             [
              0.1111111111111111,
              "#46039f"
             ],
             [
              0.2222222222222222,
              "#7201a8"
             ],
             [
              0.3333333333333333,
              "#9c179e"
             ],
             [
              0.4444444444444444,
              "#bd3786"
             ],
             [
              0.5555555555555556,
              "#d8576b"
             ],
             [
              0.6666666666666666,
              "#ed7953"
             ],
             [
              0.7777777777777778,
              "#fb9f3a"
             ],
             [
              0.8888888888888888,
              "#fdca26"
             ],
             [
              1,
              "#f0f921"
             ]
            ],
            "type": "heatmapgl"
           }
          ],
          "histogram": [
           {
            "marker": {
             "pattern": {
              "fillmode": "overlay",
              "size": 10,
              "solidity": 0.2
             }
            },
            "type": "histogram"
           }
          ],
          "histogram2d": [
           {
            "colorbar": {
             "outlinewidth": 0,
             "ticks": ""
            },
            "colorscale": [
             [
              0,
              "#0d0887"
             ],
             [
              0.1111111111111111,
              "#46039f"
             ],
             [
              0.2222222222222222,
              "#7201a8"
             ],
             [
              0.3333333333333333,
              "#9c179e"
             ],
             [
              0.4444444444444444,
              "#bd3786"
             ],
             [
              0.5555555555555556,
              "#d8576b"
             ],
             [
              0.6666666666666666,
              "#ed7953"
             ],
             [
              0.7777777777777778,
              "#fb9f3a"
             ],
             [
              0.8888888888888888,
              "#fdca26"
             ],
             [
              1,
              "#f0f921"
             ]
            ],
            "type": "histogram2d"
           }
          ],
          "histogram2dcontour": [
           {
            "colorbar": {
             "outlinewidth": 0,
             "ticks": ""
            },
            "colorscale": [
             [
              0,
              "#0d0887"
             ],
             [
              0.1111111111111111,
              "#46039f"
             ],
             [
              0.2222222222222222,
              "#7201a8"
             ],
             [
              0.3333333333333333,
              "#9c179e"
             ],
             [
              0.4444444444444444,
              "#bd3786"
             ],
             [
              0.5555555555555556,
              "#d8576b"
             ],
             [
              0.6666666666666666,
              "#ed7953"
             ],
             [
              0.7777777777777778,
              "#fb9f3a"
             ],
             [
              0.8888888888888888,
              "#fdca26"
             ],
             [
              1,
              "#f0f921"
             ]
            ],
            "type": "histogram2dcontour"
           }
          ],
          "mesh3d": [
           {
            "colorbar": {
             "outlinewidth": 0,
             "ticks": ""
            },
            "type": "mesh3d"
           }
          ],
          "parcoords": [
           {
            "line": {
             "colorbar": {
              "outlinewidth": 0,
              "ticks": ""
             }
            },
            "type": "parcoords"
           }
          ],
          "pie": [
           {
            "automargin": true,
            "type": "pie"
           }
          ],
          "scatter": [
           {
            "fillpattern": {
             "fillmode": "overlay",
             "size": 10,
             "solidity": 0.2
            },
            "type": "scatter"
           }
          ],
          "scatter3d": [
           {
            "line": {
             "colorbar": {
              "outlinewidth": 0,
              "ticks": ""
             }
            },
            "marker": {
             "colorbar": {
              "outlinewidth": 0,
              "ticks": ""
             }
            },
            "type": "scatter3d"
           }
          ],
          "scattercarpet": [
           {
            "marker": {
             "colorbar": {
              "outlinewidth": 0,
              "ticks": ""
             }
            },
            "type": "scattercarpet"
           }
          ],
          "scattergeo": [
           {
            "marker": {
             "colorbar": {
              "outlinewidth": 0,
              "ticks": ""
             }
            },
            "type": "scattergeo"
           }
          ],
          "scattergl": [
           {
            "marker": {
             "colorbar": {
              "outlinewidth": 0,
              "ticks": ""
             }
            },
            "type": "scattergl"
           }
          ],
          "scattermapbox": [
           {
            "marker": {
             "colorbar": {
              "outlinewidth": 0,
              "ticks": ""
             }
            },
            "type": "scattermapbox"
           }
          ],
          "scatterpolar": [
           {
            "marker": {
             "colorbar": {
              "outlinewidth": 0,
              "ticks": ""
             }
            },
            "type": "scatterpolar"
           }
          ],
          "scatterpolargl": [
           {
            "marker": {
             "colorbar": {
              "outlinewidth": 0,
              "ticks": ""
             }
            },
            "type": "scatterpolargl"
           }
          ],
          "scatterternary": [
           {
            "marker": {
             "colorbar": {
              "outlinewidth": 0,
              "ticks": ""
             }
            },
            "type": "scatterternary"
           }
          ],
          "surface": [
           {
            "colorbar": {
             "outlinewidth": 0,
             "ticks": ""
            },
            "colorscale": [
             [
              0,
              "#0d0887"
             ],
             [
              0.1111111111111111,
              "#46039f"
             ],
             [
              0.2222222222222222,
              "#7201a8"
             ],
             [
              0.3333333333333333,
              "#9c179e"
             ],
             [
              0.4444444444444444,
              "#bd3786"
             ],
             [
              0.5555555555555556,
              "#d8576b"
             ],
             [
              0.6666666666666666,
              "#ed7953"
             ],
             [
              0.7777777777777778,
              "#fb9f3a"
             ],
             [
              0.8888888888888888,
              "#fdca26"
             ],
             [
              1,
              "#f0f921"
             ]
            ],
            "type": "surface"
           }
          ],
          "table": [
           {
            "cells": {
             "fill": {
              "color": "#EBF0F8"
             },
             "line": {
              "color": "white"
             }
            },
            "header": {
             "fill": {
              "color": "#C8D4E3"
             },
             "line": {
              "color": "white"
             }
            },
            "type": "table"
           }
          ]
         },
         "layout": {
          "annotationdefaults": {
           "arrowcolor": "#2a3f5f",
           "arrowhead": 0,
           "arrowwidth": 1
          },
          "autotypenumbers": "strict",
          "coloraxis": {
           "colorbar": {
            "outlinewidth": 0,
            "ticks": ""
           }
          },
          "colorscale": {
           "diverging": [
            [
             0,
             "#8e0152"
            ],
            [
             0.1,
             "#c51b7d"
            ],
            [
             0.2,
             "#de77ae"
            ],
            [
             0.3,
             "#f1b6da"
            ],
            [
             0.4,
             "#fde0ef"
            ],
            [
             0.5,
             "#f7f7f7"
            ],
            [
             0.6,
             "#e6f5d0"
            ],
            [
             0.7,
             "#b8e186"
            ],
            [
             0.8,
             "#7fbc41"
            ],
            [
             0.9,
             "#4d9221"
            ],
            [
             1,
             "#276419"
            ]
           ],
           "sequential": [
            [
             0,
             "#0d0887"
            ],
            [
             0.1111111111111111,
             "#46039f"
            ],
            [
             0.2222222222222222,
             "#7201a8"
            ],
            [
             0.3333333333333333,
             "#9c179e"
            ],
            [
             0.4444444444444444,
             "#bd3786"
            ],
            [
             0.5555555555555556,
             "#d8576b"
            ],
            [
             0.6666666666666666,
             "#ed7953"
            ],
            [
             0.7777777777777778,
             "#fb9f3a"
            ],
            [
             0.8888888888888888,
             "#fdca26"
            ],
            [
             1,
             "#f0f921"
            ]
           ],
           "sequentialminus": [
            [
             0,
             "#0d0887"
            ],
            [
             0.1111111111111111,
             "#46039f"
            ],
            [
             0.2222222222222222,
             "#7201a8"
            ],
            [
             0.3333333333333333,
             "#9c179e"
            ],
            [
             0.4444444444444444,
             "#bd3786"
            ],
            [
             0.5555555555555556,
             "#d8576b"
            ],
            [
             0.6666666666666666,
             "#ed7953"
            ],
            [
             0.7777777777777778,
             "#fb9f3a"
            ],
            [
             0.8888888888888888,
             "#fdca26"
            ],
            [
             1,
             "#f0f921"
            ]
           ]
          },
          "colorway": [
           "#636efa",
           "#EF553B",
           "#00cc96",
           "#ab63fa",
           "#FFA15A",
           "#19d3f3",
           "#FF6692",
           "#B6E880",
           "#FF97FF",
           "#FECB52"
          ],
          "font": {
           "color": "#2a3f5f"
          },
          "geo": {
           "bgcolor": "white",
           "lakecolor": "white",
           "landcolor": "#E5ECF6",
           "showlakes": true,
           "showland": true,
           "subunitcolor": "white"
          },
          "hoverlabel": {
           "align": "left"
          },
          "hovermode": "closest",
          "mapbox": {
           "style": "light"
          },
          "paper_bgcolor": "white",
          "plot_bgcolor": "#E5ECF6",
          "polar": {
           "angularaxis": {
            "gridcolor": "white",
            "linecolor": "white",
            "ticks": ""
           },
           "bgcolor": "#E5ECF6",
           "radialaxis": {
            "gridcolor": "white",
            "linecolor": "white",
            "ticks": ""
           }
          },
          "scene": {
           "xaxis": {
            "backgroundcolor": "#E5ECF6",
            "gridcolor": "white",
            "gridwidth": 2,
            "linecolor": "white",
            "showbackground": true,
            "ticks": "",
            "zerolinecolor": "white"
           },
           "yaxis": {
            "backgroundcolor": "#E5ECF6",
            "gridcolor": "white",
            "gridwidth": 2,
            "linecolor": "white",
            "showbackground": true,
            "ticks": "",
            "zerolinecolor": "white"
           },
           "zaxis": {
            "backgroundcolor": "#E5ECF6",
            "gridcolor": "white",
            "gridwidth": 2,
            "linecolor": "white",
            "showbackground": true,
            "ticks": "",
            "zerolinecolor": "white"
           }
          },
          "shapedefaults": {
           "line": {
            "color": "#2a3f5f"
           }
          },
          "ternary": {
           "aaxis": {
            "gridcolor": "white",
            "linecolor": "white",
            "ticks": ""
           },
           "baxis": {
            "gridcolor": "white",
            "linecolor": "white",
            "ticks": ""
           },
           "bgcolor": "#E5ECF6",
           "caxis": {
            "gridcolor": "white",
            "linecolor": "white",
            "ticks": ""
           }
          },
          "title": {
           "x": 0.05
          },
          "xaxis": {
           "automargin": true,
           "gridcolor": "white",
           "linecolor": "white",
           "ticks": "",
           "title": {
            "standoff": 15
           },
           "zerolinecolor": "white",
           "zerolinewidth": 2
          },
          "yaxis": {
           "automargin": true,
           "gridcolor": "white",
           "linecolor": "white",
           "ticks": "",
           "title": {
            "standoff": 15
           },
           "zerolinecolor": "white",
           "zerolinewidth": 2
          }
         }
        },
        "xaxis": {
         "anchor": "y",
         "domain": [
          0,
          1
         ],
         "title": {
          "text": "FPR"
         }
        },
        "yaxis": {
         "anchor": "x",
         "domain": [
          0,
          1
         ],
         "title": {
          "text": "TPR"
         }
        }
       }
      }
     },
     "metadata": {},
     "output_type": "display_data"
    }
   ],
   "source": [
    "fpr, tpr, thresholds = roc_curve(y_true, y_pred)\n",
    "roc_df = pd.DataFrame({\n",
    "    'FPR': fpr,\n",
    "    'TPR': tpr,\n",
    "    'Thresholds': thresholds\n",
    "})\n",
    "    \n",
    "fig = px.area(roc_df, x = 'FPR', y = 'TPR', hover_data=['Thresholds'])\n",
    "auc_score = roc_auc_score(y_true, y_pred)\n",
    "fig.add_annotation(x=0.5, y=0.5, text=f'AUC={auc_score:.5f}', showarrow=False)\n",
    "fig.show()"
   ]
  },
  {
   "cell_type": "code",
   "execution_count": 9,
   "metadata": {},
   "outputs": [
    {
     "name": "stdout",
     "output_type": "stream",
     "text": [
      "Accuracy: 0.85\n",
      "Confusion matrix:\n",
      "[[223  11]\n",
      " [ 84 306]]\n"
     ]
    }
   ],
   "source": [
    "y_pred_thr = (y_pred > 0.99).astype(int)\n",
    "accuracy = accuracy_score(y_true, y_pred_thr)\n",
    "conf_matrix = confusion_matrix(y_true, y_pred_thr)\n",
    "print(f\"Accuracy: {accuracy:.2f}\")\n",
    "print(f\"Confusion matrix:\\n{conf_matrix}\")"
   ]
  },
  {
   "cell_type": "code",
   "execution_count": 10,
   "metadata": {},
   "outputs": [],
   "source": [
    "model_file_path = '../models/pytorch_model.pth'\n",
    "\n",
    "torch.save(final_model.state_dict(), model_file_path)"
   ]
  }
 ],
 "metadata": {
  "kernelspec": {
   "display_name": "Python main",
   "language": "python",
   "name": "main"
  },
  "language_info": {
   "codemirror_mode": {
    "name": "ipython",
    "version": 3
   },
   "file_extension": ".py",
   "mimetype": "text/x-python",
   "name": "python",
   "nbconvert_exporter": "python",
   "pygments_lexer": "ipython3",
   "version": "3.11.10"
  }
 },
 "nbformat": 4,
 "nbformat_minor": 2
}
